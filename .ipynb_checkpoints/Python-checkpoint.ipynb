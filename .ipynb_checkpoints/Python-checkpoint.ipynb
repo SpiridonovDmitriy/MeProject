{
 "cells": [
  {
   "cell_type": "code",
   "execution_count": 2,
   "metadata": {},
   "outputs": [],
   "source": [
    "import pandas as pd\n",
    "import matplotlib.pyplot as plt\n",
    "import seaborn as sns\n",
    "\n",
    "from scipy.stats import chi2_contingency, ttest_ind\n",
    "\n",
    "import requests\n",
    "from urllib.parse import urlencode"
   ]
  },
  {
   "cell_type": "code",
   "execution_count": 3,
   "metadata": {},
   "outputs": [],
   "source": [
    " \n",
    "#Исходные данные \n",
    "groups = '/mnt/HC_Volume_18315164/home-jupyter/jupyter-d-spiridonov/first_project/Проект_2_groups.csv'\n",
    "active_studs = '/mnt/HC_Volume_18315164/home-jupyter/jupyter-d-spiridonov/first_project/Проект_2_active_studs.csv'\n",
    "checks = '/mnt/HC_Volume_18315164/home-jupyter/jupyter-d-spiridonov/first_project/Проект_2_checks.csv'\n"
   ]
  },
  {
   "cell_type": "code",
   "execution_count": 5,
   "metadata": {},
   "outputs": [
    {
     "name": "stdout",
     "output_type": "stream",
     "text": [
      "Help on function automatic in module __main__:\n",
      "\n",
      "automatic()\n",
      "    Автоматический анализ продаж.\n",
      "    \n",
      "    Параметры:\n",
      "    ----------\n",
      "    groups_file : str\n",
      "        Путь к файлу со списком групп. \n",
      "    active_studs_file : str \n",
      "        Путь к файлу со списком активных пользователей.\n",
      "    checks_file : str\n",
      "        Путь к файлу с информацией о продажах. \n",
      "    group_add_file : Union[str, None], опционально\n",
      "        Путь к дополнительному файлу со списком групп и их идентификаторами. Файл должен быть в формате CSV, где каждая\n",
      "        строка содержит идентификатор группы и название группы (разделитель - ';').\n",
      "        По умолчанию None.\n",
      "    \n",
      "    Возвращает:\n",
      "    -----------\n",
      "    tuple:\n",
      "        - np.ndarray: Conversion Rate (CR) - процент конверсии по каждой группе.\n",
      "        - float: p-value хи-квадрат теста.\n",
      "        - np.ndarray: Average Revenue Per Paying User (ARPPU) - средний доход на одного платящего пользователя\n",
      "          для каждой группы.\n",
      "        - float: p-value теста на сравнение ARPPU между группами A и B.\n",
      "\n"
     ]
    }
   ],
   "source": [
    "help(automatic)"
   ]
  },
  {
   "cell_type": "code",
   "execution_count": 4,
   "metadata": {},
   "outputs": [],
   "source": [
    "#Напишем функцию\n",
    "def automatic(): \n",
    "    \"\"\"\n",
    "    Автоматический анализ продаж.\n",
    "    \n",
    "    Параметры:\n",
    "    ----------\n",
    "    groups_file : str\n",
    "        Путь к файлу со списком групп. \n",
    "    active_studs_file : str \n",
    "        Путь к файлу со списком активных пользователей.\n",
    "    checks_file : str\n",
    "        Путь к файлу с информацией о продажах. \n",
    "    group_add_file : Union[str, None], опционально\n",
    "        Путь к дополнительному файлу со списком групп и их идентификаторами. Файл должен быть в формате CSV, где каждая\n",
    "        строка содержит идентификатор группы и название группы (разделитель - ';').\n",
    "        По умолчанию None.\n",
    "    \n",
    "    Возвращает:\n",
    "    -----------\n",
    "    tuple:\n",
    "        - np.ndarray: Conversion Rate (CR) - процент конверсии по каждой группе.\n",
    "        - float: p-value хи-квадрат теста.\n",
    "        - np.ndarray: Average Revenue Per Paying User (ARPPU) - средний доход на одного платящего пользователя\n",
    "          для каждой группы.\n",
    "        - float: p-value теста на сравнение ARPPU между группами A и B.\n",
    "     \"\"\"\n",
    "    \n",
    "    df_groups = pd.read_csv(groups, sep=';', header=0, names=['id', 'grp'])\n",
    "    df_active_user = pd.read_csv(active_studs, header=0, names=['id'])\n",
    "    df_checks = pd.read_csv(checks, sep=';', header=0, names=['id', 'rev'])\n",
    "    \n",
    "    #Воспользуемся методом try-except , которая предназначенна для обработки исключений, которые могут возникнуть в написании кода.\n",
    "    try: #это блок, в котором выполняется код, который может вызвать ошибку.\n",
    "        df_group_add=pd.read_csv(group_add, header=0, names=['id', 'grp']) \n",
    "        df_groups=df_groups.append(df_group_add)\n",
    "        print('Результаты с дополнительным файлом')\n",
    "    except NameError:#это блок, который выполняется, если происходит ошибка в блоке try.\n",
    "        print('Файл отсутствует')\n",
    "        \n",
    "    df=df_active_user.merge(df_groups, how='left')\n",
    "   \n",
    "    df_1=df_checks.merge(df_groups, how='left') \n",
    "    df_1['sales']=df_1.rev \n",
    "    df_1['sales']='Yes'\n",
    "    \n",
    "    df_all=df.merge(df_1, how='outer') \n",
    "    df_all=df_all.fillna('No') \n",
    "    \n",
    "    df_2=df_all.groupby(['grp', 'sales'], as_index=False).agg({'id':'count'})\n",
    "    df_pivot=df_2.pivot(index='grp', columns='sales', values='id') \n",
    "    \n",
    "    CR=((df_pivot.Yes/(df_pivot.No+df_pivot.Yes))*100).round(2)\n",
    "    \n",
    "    stat, p__value_CR, dof, expected = chi2_contingency(df_pivot) \n",
    "    \n",
    "    ARPPU=df_1.groupby('grp', as_index=False).agg({'rev':'mean'})\n",
    "    p_value_ARPPU=ttest_ind(df_1.query('grp==\"A\"').rev,\n",
    "                            df_1.query('grp==\"B\"').rev) \n",
    "    \n",
    "    return CR, p__value_CR, ARPPU, p_value_ARPPU\n",
    "    \n",
    "    \n",
    "    "
   ]
  },
  {
   "cell_type": "code",
   "execution_count": 23,
   "metadata": {},
   "outputs": [
    {
     "name": "stdout",
     "output_type": "stream",
     "text": [
      "Файл отсутствует\n",
      "\n",
      " CR:\n",
      "grp\n",
      "A     6.84\n",
      "B     6.26\n",
      "No    7.69\n",
      "dtype: float64\n",
      "\n",
      " p-value CR: 0.6866313516769235\n",
      "\n",
      " ARPPU:\n",
      "  grp          rev\n",
      "0   A   860.710280\n",
      "1   B  1106.997699\n",
      "\n",
      " p-value ARPPU: Ttest_indResult(statistic=-3.013977768530976, pvalue=0.0026999933026625785)\n"
     ]
    }
   ],
   "source": [
    "#Посмотрим результат\n",
    "CR, p__value_CR, ARPPU, p_value_ARPPU=automatic() \n",
    "print((f\"\\n CR:\\n{CR}\\n\\n p-value CR: {p__value_CR}\\n\\n ARPPU:\\n{ARPPU}\\n\\n p-value ARPPU: {p_value_ARPPU}\"))\n"
   ]
  },
  {
   "cell_type": "code",
   "execution_count": 35,
   "metadata": {},
   "outputs": [],
   "source": [
    "#Добавим наш доп.файл\n",
    "group_add='/mnt/HC_Volume_18315164/home-jupyter/jupyter-d-spiridonov/first_project/Проект_2_group_add.csv'"
   ]
  },
  {
   "cell_type": "code",
   "execution_count": 36,
   "metadata": {},
   "outputs": [
    {
     "name": "stdout",
     "output_type": "stream",
     "text": [
      "Результаты с дополнительным файлом\n",
      "\n",
      " CR:\n",
      "grp\n",
      "A    6.83\n",
      "B    6.27\n",
      "dtype: float64\n",
      "\n",
      " p-value CR: 0.4464432666411111\n",
      "\n",
      " ARPPU:\n",
      "  grp          rev\n",
      "0   A   860.710280\n",
      "1   B  1108.824893\n",
      "\n",
      " p-value ARPPU: Ttest_indResult(statistic=-3.0367637315797316, pvalue=0.0025070167572044644)\n"
     ]
    }
   ],
   "source": [
    "#Посчитаем метрики вместе с доп. файлом\n",
    "CR, p__value_CR, ARPPU, p_value_ARPPU=automatic() \n",
    "print((f\"\\n CR:\\n{CR}\\n\\n p-value CR: {p__value_CR}\\n\\n ARPPU:\\n{ARPPU}\\n\\n p-value ARPPU: {p_value_ARPPU}\"))"
   ]
  },
  {
   "cell_type": "markdown",
   "metadata": {},
   "source": [
    "2.Реализуйте функцию, которая будет строить графики по получаемым метрикам."
   ]
  },
  {
   "cell_type": "markdown",
   "metadata": {},
   "source": [
    "Так как у нас категоральная переменная то будем строить график barplot. \n"
   ]
  },
  {
   "cell_type": "code",
   "execution_count": 52,
   "metadata": {},
   "outputs": [],
   "source": []
  },
  {
   "cell_type": "code",
   "execution_count": 71,
   "metadata": {},
   "outputs": [],
   "source": [
    "  def metrics_plot(CR, ARPPU):\n",
    "    fig, ax = plt.subplots(1, 2, figsize=(20, 10))#\n",
    "\n",
    "    one = sns.barplot(data=CR.reset_index(), x='grp', y=0, ax=ax[0])# используется метод .reset_index() для обновления индексов DataFrame, чтобы столбцы grp и rev стали доступны для вывода на диаграмму\n",
    "    #зададим доп параметры,чтобы наш график был понятнее\n",
    "    one.set_title(' Конверсия (%)', fontsize=20)\n",
    "    one.set_xlabel('Экспериментальная группа', fontsize=15)\n",
    "    one.set_ylabel('р')\n",
    "   \n",
    "    \n",
    "    two = sns.barplot(data=ARPPU.reset_index(), x='grp', y='rev', ax=ax[1])\n",
    "    #зададим доп параметры,чтобы наш график был понятнее\n",
    "    two.set_title(' ARPPU ', fontsize=20)\n",
    "    two.set_xlabel('Экспериментальная группа', fontsize=15)\n",
    "    two.set_ylabel('р')\n",
    "    "
   ]
  },
  {
   "cell_type": "code",
   "execution_count": 72,
   "metadata": {},
   "outputs": [
    {
     "data": {
      "image/png": "[encoded data removed]",
      "text/plain": [
       "<Figure size 1440x720 with 2 Axes>"
      ]
     },
     "metadata": {
      "needs_background": "light"
     },
     "output_type": "display_data"
    }
   ],
   "source": [
    "metrics_plot(CR, ARPPU)"
   ]
  },
  {
   "cell_type": "code",
   "execution_count": null,
   "metadata": {},
   "outputs": [],
   "source": []
  }
 ],
 "metadata": {
  "kernelspec": {
   "display_name": "Python 3",
   "language": "python",
   "name": "python3"
  },
  "language_info": {
   "codemirror_mode": {
    "name": "ipython",
    "version": 3
   },
   "file_extension": ".py",
   "mimetype": "text/x-python",
   "name": "python",
   "nbconvert_exporter": "python",
   "pygments_lexer": "ipython3",
   "version": "3.7.3"
  }
 },
 "nbformat": 4,
 "nbformat_minor": 4
}
