{
 "cells": [
  {
   "cell_type": "code",
   "execution_count": 1,
   "metadata": {},
   "outputs": [],
   "source": [
    "import pandas as pd \n",
    "import pandahouse as ph"
   ]
  },
  {
   "cell_type": "markdown",
   "metadata": {},
   "source": [
    "Условия задачи \n",
    "\n",
    "\n",
    "2.1 Очень усердные ученики.\n",
    "\n",
    "2.1.1 Условие\n",
    "\n",
    "Образовательные курсы состоят из различных уроков, каждый из которых состоит из нескольких маленьких заданий. Каждое такое маленькое задание называется \"горошиной\".\n",
    "\n",
    "Назовём очень усердным учеником того пользователя, который хотя бы раз за текущий месяц правильно решил 20 горошин.\n",
    "\n",
    "Дана таблица default.peas:\n",
    "\n",
    "Название атрибута\tТип атрибута\tСмысловое значение\n",
    "st_id\t               int\t         ID ученика\n",
    "timest\t               timesta       Время решения карточки\n",
    "correct\t               bool\t         Правильно ли решена горошина?\n",
    "subject\t               text\t         Дисциплина, в которой находится горошина \n",
    "\n",
    "Необходимо написать оптимальный запрос, который даст информацию о количестве очень усердных студентов.NB! Под усердным студентом мы понимаем студента, который правильно решил 20 задач за текущий месяц.\n",
    "\n",
    "2.2 Оптимизация воронки\n",
    "\n",
    "2.2.1 Условие\n",
    "\n",
    "Образовательная платформа предлагает пройти студентам курсы по модели trial: студент может решить бесплатно лишь 30 горошин в день. Для неограниченного количества заданий в определенной дисциплине студенту необходимо приобрести полный доступ. Команда провела эксперимент, где был протестирован новый экран оплаты.\n",
    "\n",
    "2.2.2 Задача\n",
    "\n",
    "Дана таблицы: default.peas (см. выше), default.studs:\n",
    "\n",
    "Название атрибута\tТип атрибута\tСмысловое значение\n",
    "st_id\t             int\t           ID ученика\n",
    "test_grp\t         text\t           Метка ученика в данном эксперименте\n",
    "\n",
    "и default.final_project_check:\n",
    "\n",
    "Название атрибута\tТип атрибута\tСмысловое значение\n",
    "st_id\t                int \t      ID ученика\n",
    "sale_time\t            timestamp\t  Время покупки\n",
    "money\t                int\t          Цена, по которой приобрели данный курс\n",
    "subject\t                text \t\n",
    "\n",
    "Необходимо в одном запросе выгрузить следующую информацию о группах пользователей:\n",
    "\n",
    "ARPU \n",
    "ARPAU \n",
    "CR в покупку \n",
    "СR активного пользователя в покупку \n",
    "CR пользователя из активности по математике (subject = ’math’) в покупку курса по математике\n",
    "ARPU считается относительно всех пользователей, попавших в группы.\n",
    "\n",
    "Активным считается пользователь, за все время решивший больше 10 задач правильно в любых дисциплинах.\n",
    "\n",
    "Активным по математике считается пользователь, за все время решивший 2 или больше задач правильно по математике.\n",
    "    "
   ]
  },
  {
   "cell_type": "code",
   "execution_count": 2,
   "metadata": {},
   "outputs": [],
   "source": [
    "# подключаемся к ClickHouse через pandahouse\n",
    "connection_default = {'host': 'https://clickhouse.lab.karpov.courses',\n",
    "                      'database':'default',\n",
    "                      'user':'student', \n",
    "                      'password':'dpo_python_2020'\n",
    "                     }"
   ]
  },
  {
   "cell_type": "markdown",
   "metadata": {},
   "source": [
    "2.1.1 \n",
    "Для начала нужно выяснить за какой период решались задачки. По условию нам, чтобы каждый ученик решил 20 задачек за текуцщий месяц. \n"
   ]
  },
  {
   "cell_type": "code",
   "execution_count": 3,
   "metadata": {},
   "outputs": [
    {
     "data": {
      "text/html": [
       "<div>\n",
       "<style scoped>\n",
       "    .dataframe tbody tr th:only-of-type {\n",
       "        vertical-align: middle;\n",
       "    }\n",
       "\n",
       "    .dataframe tbody tr th {\n",
       "        vertical-align: top;\n",
       "    }\n",
       "\n",
       "    .dataframe thead th {\n",
       "        text-align: right;\n",
       "    }\n",
       "</style>\n",
       "<table border=\"1\" class=\"dataframe\">\n",
       "  <thead>\n",
       "    <tr style=\"text-align: right;\">\n",
       "      <th></th>\n",
       "      <th>min_date</th>\n",
       "      <th>max_date</th>\n",
       "    </tr>\n",
       "  </thead>\n",
       "  <tbody>\n",
       "    <tr>\n",
       "      <th>0</th>\n",
       "      <td>2021-10-30</td>\n",
       "      <td>2021-10-31</td>\n",
       "    </tr>\n",
       "  </tbody>\n",
       "</table>\n",
       "</div>"
      ],
      "text/plain": [
       "    min_date   max_date\n",
       "0 2021-10-30 2021-10-31"
      ]
     },
     "execution_count": 3,
     "metadata": {},
     "output_type": "execute_result"
    }
   ],
   "source": [
    "q= '''\n",
    "      Select min(toStartOfDay(timest)) as min_date, \n",
    "             max(toStartOfDay(timest)) as max_date\n",
    "      from   default.peas \n",
    "\n",
    "   ''' \n",
    "\n",
    "#отправляем запрос, и записываем результат в пандовский датафрейм\n",
    "\n",
    "month=ph.read_clickhouse(query=q, connection=connection_default)\n",
    "month"
   ]
  },
  {
   "cell_type": "markdown",
   "metadata": {},
   "source": [
    "По результатам видно, что ученики решали задачки только 2 дня"
   ]
  },
  {
   "cell_type": "markdown",
   "metadata": {},
   "source": [
    "Найдем информацию о количестве усердных учеников (которые решили 20+ задач правильно) \n"
   ]
  },
  {
   "cell_type": "code",
   "execution_count": 4,
   "metadata": {},
   "outputs": [
    {
     "data": {
      "text/html": [
       "<div>\n",
       "<style scoped>\n",
       "    .dataframe tbody tr th:only-of-type {\n",
       "        vertical-align: middle;\n",
       "    }\n",
       "\n",
       "    .dataframe tbody tr th {\n",
       "        vertical-align: top;\n",
       "    }\n",
       "\n",
       "    .dataframe thead th {\n",
       "        text-align: right;\n",
       "    }\n",
       "</style>\n",
       "<table border=\"1\" class=\"dataframe\">\n",
       "  <thead>\n",
       "    <tr style=\"text-align: right;\">\n",
       "      <th></th>\n",
       "      <th>Hard_students</th>\n",
       "    </tr>\n",
       "  </thead>\n",
       "  <tbody>\n",
       "    <tr>\n",
       "      <th>0</th>\n",
       "      <td>136</td>\n",
       "    </tr>\n",
       "  </tbody>\n",
       "</table>\n",
       "</div>"
      ],
      "text/plain": [
       "   Hard_students\n",
       "0            136"
      ]
     },
     "execution_count": 4,
     "metadata": {},
     "output_type": "execute_result"
    }
   ],
   "source": [
    "q_20= '''\n",
    "             select count(st_id) as Hard_students\n",
    "             from(select st_id,\n",
    "                   sum(correct) as Sum_correct \n",
    "                   from default.peas  \n",
    "                    GROUP BY st_id\n",
    "                    HAVING Sum_correct>=20)\n",
    "\n",
    "   ''' \n",
    "\n",
    "#отправляем запрос, и записываем результат в пандовский датафрейм\n",
    "\n",
    "hard_students=ph.read_clickhouse(query=q_20, connection=connection_default)\n",
    "hard_students"
   ]
  },
  {
   "cell_type": "markdown",
   "metadata": {},
   "source": [
    "В текущем месяце 20+ горошин получили 136 учеников"
   ]
  },
  {
   "cell_type": "markdown",
   "metadata": {},
   "source": [
    "2.1.1 "
   ]
  },
  {
   "cell_type": "code",
   "execution_count": 5,
   "metadata": {},
   "outputs": [
    {
     "data": {
      "text/html": [
       "<div>\n",
       "<style scoped>\n",
       "    .dataframe tbody tr th:only-of-type {\n",
       "        vertical-align: middle;\n",
       "    }\n",
       "\n",
       "    .dataframe tbody tr th {\n",
       "        vertical-align: top;\n",
       "    }\n",
       "\n",
       "    .dataframe thead th {\n",
       "        text-align: right;\n",
       "    }\n",
       "</style>\n",
       "<table border=\"1\" class=\"dataframe\">\n",
       "  <thead>\n",
       "    <tr style=\"text-align: right;\">\n",
       "      <th></th>\n",
       "      <th>test_grp</th>\n",
       "      <th>Group</th>\n",
       "      <th>CR</th>\n",
       "      <th>CR_active</th>\n",
       "      <th>CR_math</th>\n",
       "      <th>ARPU</th>\n",
       "      <th>ARPAU</th>\n",
       "    </tr>\n",
       "  </thead>\n",
       "  <tbody>\n",
       "    <tr>\n",
       "      <th>0</th>\n",
       "      <td>control</td>\n",
       "      <td>305</td>\n",
       "      <td>0.049180</td>\n",
       "      <td>0.110236</td>\n",
       "      <td>0.102041</td>\n",
       "      <td>4540.983607</td>\n",
       "      <td>10905.511811</td>\n",
       "    </tr>\n",
       "    <tr>\n",
       "      <th>1</th>\n",
       "      <td>pilot</td>\n",
       "      <td>295</td>\n",
       "      <td>0.108475</td>\n",
       "      <td>0.260417</td>\n",
       "      <td>0.142857</td>\n",
       "      <td>11508.474576</td>\n",
       "      <td>35364.583333</td>\n",
       "    </tr>\n",
       "  </tbody>\n",
       "</table>\n",
       "</div>"
      ],
      "text/plain": [
       "  test_grp  Group        CR  CR_active   CR_math          ARPU         ARPAU\n",
       "0  control    305  0.049180   0.110236  0.102041   4540.983607  10905.511811\n",
       "1    pilot    295  0.108475   0.260417  0.142857  11508.474576  35364.583333"
      ]
     },
     "execution_count": 5,
     "metadata": {},
     "output_type": "execute_result"
    }
   ],
   "source": [
    "q_help='''\n",
    "         select test_grp, Count(*) as Group,\n",
    "       sum(clients) / count(st_id) as CR, --конверсия в покупку\n",
    "       sum(clients=1 and quantity> 10) / sum(quantity>10) as CR_active, --конверсия активного пользователя в покупку\n",
    "       sum(math_payment) / sum(Math_score) as CR_math, --конверсия активности пользователя по математике в покупку курса\n",
    "       sum(payment) / count(st_id) as ARPU, --Средний доход с привлеченного пользователя\n",
    "       sum(payment) / sum(quantity>10) as ARPAU-- Средний платеж на всех активных пользователей\n",
    "from(\n",
    "        select c.st_id as st_id, \n",
    "            c.test_grp as test_grp, \n",
    "            b.payment as payment, \n",
    "            b.clients as clients, \n",
    "            a.quantity as quantity, \n",
    "            a.Math_score as Math_score, \n",
    "            case when Math_score=1 and clients=1 then 1 else 0 end as math_payment--Активный покупатель математики\n",
    "    from default.studs as c\n",
    "left join (\n",
    "    select st_id, \n",
    "        sum(money) as payment,-- сумма покупки \n",
    "        count(distinct(st_id)) as clients -- пользователи кто совершил покупку\n",
    "    from default.final_project_check \n",
    "    group by st_id) as b \n",
    "   on  c.st_id=b.st_id\n",
    "left join(\n",
    "    select st_id, \n",
    "        sum(quantity) as quantity,\n",
    "        sum(Math_score) as Math_score\n",
    "    from(select st_id, subject,\n",
    "        sum(correct) as quantity,--количество правильных ответов \n",
    "        case when subject='Math' and quantity >= 2 then 1 else 0 end as Math_score--количество решенных задач по математике >2\n",
    "    from default.peas\n",
    "    GROUP BY st_id, subject)\n",
    "    GROUP BY st_id) as a \n",
    "on c.st_id=a.st_id\n",
    ")\n",
    "GROUP BY test_grp\n",
    "\n",
    "\n",
    "\n",
    "'''\n",
    "trial=ph.read_clickhouse(query=q_help, connection=connection_default)\n",
    "trial"
   ]
  },
  {
   "cell_type": "markdown",
   "metadata": {},
   "source": [
    "Ход работы:В начале я по рабортал с таблицой final_project_check: нашел сумму покупки для каждого пользователя и посчитал количество клиентов. \n",
    "Далее приджойнил преобразованную таблицу к таблице studs. После поработал с таблицей peas : определил активных пользователей. Далее смерджил таблшицу peas с таблицой которую получил до этого. \n",
    "После посчитал заданные метрики и сгруппировал по тестовой группе. Из результата видно, чтол по всем показателям новый экран оплаты обходит старый,несмотря на то что количество пользователекй старого больше.\n",
    "        "
   ]
  }
 ],
 "metadata": {
  "kernelspec": {
   "display_name": "Python 3",
   "language": "python",
   "name": "python3"
  },
  "language_info": {
   "codemirror_mode": {
    "name": "ipython",
    "version": 3
   },
   "file_extension": ".py",
   "mimetype": "text/x-python",
   "name": "python",
   "nbconvert_exporter": "python",
   "pygments_lexer": "ipython3",
   "version": "3.7.3"
  }
 },
 "nbformat": 4,
 "nbformat_minor": 4
}
